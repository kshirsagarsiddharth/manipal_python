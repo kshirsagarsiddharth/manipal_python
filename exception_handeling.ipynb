{
 "metadata": {
  "language_info": {
   "codemirror_mode": {
    "name": "ipython",
    "version": 3
   },
   "file_extension": ".py",
   "mimetype": "text/x-python",
   "name": "python",
   "nbconvert_exporter": "python",
   "pygments_lexer": "ipython3",
   "version": "3.8.0-final"
  },
  "orig_nbformat": 2,
  "kernelspec": {
   "name": "python3",
   "display_name": "Python 3.8.0 64-bit ('tf_2.4': conda)",
   "metadata": {
    "interpreter": {
     "hash": "df53eb43d5f4a47426fc7695aa15cd0ff0fde94a792cda81b8e3f34ace87d5f5"
    }
   }
  }
 },
 "nbformat": 4,
 "nbformat_minor": 2,
 "cells": [
  {
   "cell_type": "code",
   "execution_count": 11,
   "metadata": {},
   "outputs": [
    {
     "output_type": "stream",
     "name": "stdout",
     "text": [
      "Division not possible\ndivision by zero\n"
     ]
    }
   ],
   "source": [
    "a = 10 \n",
    "b = 0\n",
    "\n",
    "try:\n",
    "    t = a/b \n",
    "except Exception as e:\n",
    "    print('Division not possible')\n",
    "    print(e)\n"
   ]
  },
  {
   "cell_type": "code",
   "execution_count": 10,
   "metadata": {},
   "outputs": [
    {
     "output_type": "stream",
     "name": "stdout",
     "text": [
      "1234\n"
     ]
    }
   ],
   "source": [
    "s = '1234'\n",
    "try:\n",
    "    print(int(s))\n",
    "except Exception as e:\n",
    "    print(e)\n",
    "    print('cannot convert to text')"
   ]
  },
  {
   "cell_type": "code",
   "execution_count": 12,
   "metadata": {},
   "outputs": [
    {
     "output_type": "stream",
     "name": "stdout",
     "text": [
      "cannot convert to text\n<class 'ValueError'>\n"
     ]
    }
   ],
   "source": [
    "s = 'Hello'\n",
    "try:\n",
    "    print(int(s))\n",
    "except Exception as e:\n",
    "    print('cannot convert to text')\n",
    "    print(e.__class__)"
   ]
  },
  {
   "source": [
    "## Exception handeling\n",
    "\n",
    "try:\n",
    "\n",
    "        statement1 \n",
    "\n",
    "except:\n",
    "\n",
    "        statement1 \n",
    "    \n",
    "        statement2 "
   ],
   "cell_type": "markdown",
   "metadata": {}
  },
  {
   "cell_type": "code",
   "execution_count": 18,
   "metadata": {},
   "outputs": [
    {
     "output_type": "stream",
     "name": "stdout",
     "text": [
      "Hello\ndivision by zero\nword\n"
     ]
    }
   ],
   "source": [
    "# to print the statement word any time we can use finally\n",
    "try:\n",
    "    print(\"Hello\")\n",
    "    print(a/b)\n",
    "    #print('world')\n",
    "except Exception as e:\n",
    "    print(e)\n",
    "finally:\n",
    "    print('word')"
   ]
  },
  {
   "cell_type": "code",
   "execution_count": 20,
   "metadata": {},
   "outputs": [
    {
     "output_type": "stream",
     "name": "stdout",
     "text": [
      "[Errno 2] No such file or directory: 'thisisanewfile.txt'\n"
     ]
    }
   ],
   "source": [
    "# in this case file is not closed because the execution goes to the exception statement\n",
    "\n",
    "a = 10 \n",
    "b = 0\n",
    "try:\n",
    "    file_ = open('thisisanewfile.txt')\n",
    "    print(a/b)\n",
    "    file_.close()\n",
    "except Exception as e:\n",
    "    print(e)"
   ]
  },
  {
   "cell_type": "code",
   "execution_count": 28,
   "metadata": {},
   "outputs": [
    {
     "output_type": "stream",
     "name": "stdout",
     "text": [
      "division by zero\n"
     ]
    }
   ],
   "source": [
    "# in this case even we get the exception the execution goes to finally and the file is closed\n",
    "a = 10 \n",
    "b = 0\n",
    "try:\n",
    "    file_ = open('exfile.txt')\n",
    "    print(a/b)\n",
    "    #file_.close()\n",
    "except Exception as e:\n",
    "    print(e)\n",
    "finally:\n",
    "    file_.close()"
   ]
  },
  {
   "cell_type": "code",
   "execution_count": 26,
   "metadata": {},
   "outputs": [
    {
     "output_type": "error",
     "ename": "SyntaxError",
     "evalue": "'continue' not properly in loop (<ipython-input-26-09863d2925d8>, line 10)",
     "traceback": [
      "\u001b[1;36m  File \u001b[1;32m\"<ipython-input-26-09863d2925d8>\"\u001b[1;36m, line \u001b[1;32m10\u001b[0m\n\u001b[1;33m    continue\u001b[0m\n\u001b[1;37m    ^\u001b[0m\n\u001b[1;31mSyntaxError\u001b[0m\u001b[1;31m:\u001b[0m 'continue' not properly in loop\n"
     ]
    }
   ],
   "source": [
    "# in this case even we get the exception the execution goes to finally and the file is closed\n",
    "a = 10 \n",
    "b = 0\n",
    "try:\n",
    "    file_ = open('exfile2.txt')\n",
    "    print(a/b)\n",
    "    file_.close()\n",
    "except Exception as e:\n",
    "    print(e)\n",
    "finally:\n",
    "    file_.close()"
   ]
  },
  {
   "cell_type": "code",
   "execution_count": 33,
   "metadata": {},
   "outputs": [
    {
     "output_type": "stream",
     "name": "stdout",
     "text": [
      "<class 'FileNotFoundError'>\n"
     ]
    }
   ],
   "source": [
    "a = 10 \n",
    "b = 0\n",
    "try:\n",
    "    file_ = open('exfile2.txt')\n",
    "    print(a/b)\n",
    "    file_.close()\n",
    "except Exception as e1:\n",
    "    print(e1.__class__)\n",
    "\n",
    "except Exception as e2:\n",
    "    print(e2.__class__)\n",
    "finally:\n",
    "    file_.close()"
   ]
  },
  {
   "cell_type": "code",
   "execution_count": 16,
   "metadata": {},
   "outputs": [
    {
     "output_type": "stream",
     "name": "stdout",
     "text": [
      "[Errno 2] No such file or directory: 'samkf.txt'\ndivision by zero\n"
     ]
    }
   ],
   "source": [
    "# if we want to print two errors at a time we use the nesting of blocks\n",
    "a = 10 \n",
    "b = 0 \n",
    "try:\n",
    "    file = open('samkf.txt')\n",
    "except Exception as e:\n",
    "    print(e)\n",
    "finally:\n",
    "    try:\n",
    "        div = a / b\n",
    "    except Exception as e:\n",
    "        print(e)"
   ]
  },
  {
   "cell_type": "code",
   "execution_count": 2,
   "metadata": {},
   "outputs": [
    {
     "output_type": "stream",
     "name": "stdout",
     "text": [
      "division by zero\n[Errno 2] No such file or directory: 'demo.txt'\n"
     ]
    }
   ],
   "source": [
    "a = 20\n",
    "b = 0 \n",
    "\n",
    "try:\n",
    "    print(a/b)\n",
    "    f = open('demo.txt')\n",
    "except Exception as e:\n",
    "    print(e)\n",
    "finally:\n",
    "    try:\n",
    "        f = open('demo.txt')\n",
    "    except Exception as e:\n",
    "        print(e)\n"
   ]
  },
  {
   "cell_type": "code",
   "execution_count": 2,
   "metadata": {},
   "outputs": [
    {
     "output_type": "stream",
     "name": "stdout",
     "text": [
      "file opened\ndivision by zero\n"
     ]
    }
   ],
   "source": [
    "a = 0 \n",
    "b = 0 \n",
    "\n",
    "try:\n",
    "    print('file opened')\n",
    "    print(a/b)\n",
    "    k = int(input())\n",
    "except Exception as e:\n",
    "    print(e)"
   ]
  },
  {
   "cell_type": "code",
   "execution_count": 5,
   "metadata": {},
   "outputs": [
    {
     "output_type": "stream",
     "name": "stdout",
     "text": [
      "file opened\n",
      "invalid literal for int() with base 10: 'hfhf'\n"
     ]
    }
   ],
   "source": [
    "# this code handel multiple errors\n",
    "a = 10 \n",
    "b = 0 \n",
    "\n",
    "try:\n",
    "    print('file opened')\n",
    "    \n",
    "    k = int(input())\n",
    "    print(k)\n",
    "    print(a/b)\n",
    "except ZeroDivisionError as e:\n",
    "    print(e)\n",
    "except ValueError as e:\n",
    "    print(e)\n",
    "except Exception as e:\n",
    "    print(e)\n",
    "finally:\n",
    "    print('world')\n"
   ]
  },
  {
   "cell_type": "code",
   "execution_count": 1,
   "metadata": {},
   "outputs": [
    {
     "output_type": "stream",
     "name": "stdout",
     "text": [
      "file opened\n",
      "invalid literal for int() with base 10: 'fjidio'\n",
      "world\n"
     ]
    }
   ],
   "source": [
    "# this code handel multiple errors but in case of this code there are no errors.  \n",
    "a = 10 \n",
    "b = 40\n",
    "\n",
    "try:\n",
    "    print('file opened')\n",
    "    \n",
    "    k = int(input())\n",
    "    print(k)\n",
    "    print(a/b)\n",
    "except ZeroDivisionError as e:\n",
    "    print(e)\n",
    "except ValueError as e:\n",
    "    print(e)\n",
    "except Exception as e:\n",
    "    print(e)\n",
    "finally:\n",
    "    print('world')\n"
   ]
  },
  {
   "cell_type": "code",
   "execution_count": 3,
   "metadata": {},
   "outputs": [
    {
     "output_type": "stream",
     "name": "stdout",
     "text": [
      "division by zero\n"
     ]
    },
    {
     "output_type": "error",
     "ename": "NameError",
     "evalue": "name 'f' is not defined",
     "traceback": [
      "\u001b[1;31m---------------------------------------------------------------------------\u001b[0m",
      "\u001b[1;31mNameError\u001b[0m                                 Traceback (most recent call last)",
      "\u001b[1;32m<ipython-input-3-f8f2125c26bd>\u001b[0m in \u001b[0;36m<module>\u001b[1;34m\u001b[0m\n\u001b[0;32m      7\u001b[0m     \u001b[0mprint\u001b[0m\u001b[1;33m(\u001b[0m\u001b[0me\u001b[0m\u001b[1;33m)\u001b[0m\u001b[1;33m\u001b[0m\u001b[1;33m\u001b[0m\u001b[0m\n\u001b[0;32m      8\u001b[0m \u001b[1;32mfinally\u001b[0m\u001b[1;33m:\u001b[0m\u001b[1;33m\u001b[0m\u001b[1;33m\u001b[0m\u001b[0m\n\u001b[1;32m----> 9\u001b[1;33m     \u001b[0mf\u001b[0m\u001b[1;33m.\u001b[0m\u001b[0mclose\u001b[0m\u001b[1;33m(\u001b[0m\u001b[1;33m)\u001b[0m\u001b[1;33m\u001b[0m\u001b[1;33m\u001b[0m\u001b[0m\n\u001b[0m",
      "\u001b[1;31mNameError\u001b[0m: name 'f' is not defined"
     ]
    }
   ],
   "source": [
    "# because the program wont traverse till f we get the exception.  \n",
    "a = 10 \n",
    "b = 0 \n",
    "try:\n",
    "    print(a/b)\n",
    "    f = open('stuff.txt')\n",
    "except Exception as e:\n",
    "    print(e)\n",
    "finally:\n",
    "    f.close()"
   ]
  },
  {
   "cell_type": "code",
   "execution_count": null,
   "metadata": {},
   "outputs": [],
   "source": []
  }
 ]
}