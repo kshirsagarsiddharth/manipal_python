{
 "metadata": {
  "language_info": {
   "codemirror_mode": {
    "name": "ipython",
    "version": 3
   },
   "file_extension": ".py",
   "mimetype": "text/x-python",
   "name": "python",
   "nbconvert_exporter": "python",
   "pygments_lexer": "ipython3",
   "version": "3.8.0-final"
  },
  "orig_nbformat": 2,
  "kernelspec": {
   "name": "python3",
   "display_name": "Python 3.8.0 64-bit ('tf_2.4': conda)",
   "metadata": {
    "interpreter": {
     "hash": "df53eb43d5f4a47426fc7695aa15cd0ff0fde94a792cda81b8e3f34ace87d5f5"
    }
   }
  }
 },
 "nbformat": 4,
 "nbformat_minor": 2,
 "cells": [
  {
   "cell_type": "code",
   "execution_count": 2,
   "metadata": {},
   "outputs": [
    {
     "output_type": "stream",
     "name": "stdout",
     "text": [
      "Division not possible\n"
     ]
    }
   ],
   "source": [
    "a = 10 \n",
    "b = 0\n",
    "\n",
    "try:\n",
    "    t = a/b \n",
    "except:\n",
    "    print('Division not possible')\n"
   ]
  },
  {
   "cell_type": "code",
   "execution_count": 3,
   "metadata": {},
   "outputs": [
    {
     "output_type": "stream",
     "name": "stdout",
     "text": [
      "1234\n"
     ]
    }
   ],
   "source": [
    "s = '1234'\n",
    "try:\n",
    "    print(int(s))\n",
    "except:\n",
    "    print('cannot convert to text')"
   ]
  },
  {
   "cell_type": "code",
   "execution_count": 4,
   "metadata": {},
   "outputs": [
    {
     "output_type": "stream",
     "name": "stdout",
     "text": [
      "cannot convert to text\n"
     ]
    }
   ],
   "source": [
    "s = 'Hello'\n",
    "try:\n",
    "    print(int(s))\n",
    "except:\n",
    "    print('cannot convert to text')"
   ]
  },
  {
   "source": [
    "## Exception handeling\n",
    "\n",
    "try:\n",
    "\n",
    "        statement1 \n",
    "\n",
    "except:\n",
    "\n",
    "        statement1 \n",
    "    \n",
    "        statement2 "
   ],
   "cell_type": "markdown",
   "metadata": {}
  },
  {
   "cell_type": "code",
   "execution_count": null,
   "metadata": {},
   "outputs": [],
   "source": []
  }
 ]
}