{
 "metadata": {
  "language_info": {
   "codemirror_mode": {
    "name": "ipython",
    "version": 3
   },
   "file_extension": ".py",
   "mimetype": "text/x-python",
   "name": "python",
   "nbconvert_exporter": "python",
   "pygments_lexer": "ipython3",
   "version": "3.8.5-final"
  },
  "orig_nbformat": 2,
  "kernelspec": {
   "name": "python3",
   "display_name": "Python 3.8.5 64-bit (conda)",
   "metadata": {
    "interpreter": {
     "hash": "31d71ad9aa39c0baf4bc22e91d63925c5e983cab7cde6637fe5e3e78156f7446"
    }
   }
  }
 },
 "nbformat": 4,
 "nbformat_minor": 2,
 "cells": [
  {
   "cell_type": "code",
   "execution_count": 3,
   "metadata": {},
   "outputs": [
    {
     "output_type": "execute_result",
     "data": {
      "text/plain": [
       "'mittu'"
      ]
     },
     "metadata": {},
     "execution_count": 3
    }
   ],
   "source": [
    "class Bird:\n",
    "    def __init__(self,name = None,age = None,color = None):\n",
    "        self.name = name \n",
    "        self.age = age \n",
    "        self.color = color \n",
    "\n",
    "mittu = Bird('mittu',1,'blue')\n"
   ]
  },
  {
   "cell_type": "code",
   "execution_count": 30,
   "metadata": {},
   "outputs": [],
   "source": [
    "class Circle:\n",
    "    def __init__(self,radius = None):\n",
    "        self.radius = radius \n",
    "    \n",
    "    def find_area(self): \n",
    "        radius = 3.14 * self.radius * self.radius \n",
    "        return radius \n",
    "    \n",
    "    def display_radius(self):\n",
    "        print(self.radius)\n",
    "    \n",
    "    def change_radius(self,new_radius):\n",
    "        self.radius = new_radius\n"
   ]
  },
  {
   "cell_type": "code",
   "execution_count": 31,
   "metadata": {},
   "outputs": [],
   "source": [
    "cir = Circle(radius = 12)"
   ]
  },
  {
   "cell_type": "code",
   "execution_count": 32,
   "metadata": {},
   "outputs": [],
   "source": [
    "cir.change_radius(32)"
   ]
  },
  {
   "cell_type": "code",
   "execution_count": 14,
   "metadata": {},
   "outputs": [],
   "source": [
    "class Temperature:\n",
    "    def __init__(self, cel = None, far = None):\n",
    "        self.cel = cel \n",
    "        self.far = far \n",
    "\n",
    "    \n",
    "    def celcius_to_faranhite(self):\n",
    "        return (self.far  - 32) / 1.8 \n",
    "\n",
    "    def faranhite_to_celcius(self):\n",
    "        return self.cel * 1.8 + 32 \n",
    "    "
   ]
  },
  {
   "cell_type": "code",
   "execution_count": 15,
   "metadata": {},
   "outputs": [],
   "source": [
    "temp = Temperature(12,13)"
   ]
  },
  {
   "cell_type": "code",
   "execution_count": 16,
   "metadata": {},
   "outputs": [
    {
     "output_type": "execute_result",
     "data": {
      "text/plain": [
       "-10.555555555555555"
      ]
     },
     "metadata": {},
     "execution_count": 16
    }
   ],
   "source": [
    "temp.celcius_to_faranhite()"
   ]
  },
  {
   "cell_type": "code",
   "execution_count": 17,
   "metadata": {},
   "outputs": [
    {
     "output_type": "execute_result",
     "data": {
      "text/plain": [
       "53.6"
      ]
     },
     "metadata": {},
     "execution_count": 17
    }
   ],
   "source": [
    "temp.faranhite_to_celcius()"
   ]
  },
  {
   "cell_type": "code",
   "execution_count": 1,
   "metadata": {},
   "outputs": [],
   "source": [
    "class Person:\n",
    "    def __init__(self,name):\n",
    "        self.name = name \n",
    "    \n",
    "    def display_name(self):\n",
    "        print(self.name)\n",
    "    \n",
    "    def modify_name(self,name):\n",
    "        self.name = name \n",
    "    "
   ]
  },
  {
   "cell_type": "code",
   "execution_count": 3,
   "metadata": {},
   "outputs": [
    {
     "output_type": "stream",
     "name": "stdout",
     "text": [
      "siddharth\n"
     ]
    }
   ],
   "source": [
    "person = Person('siddharth')\n",
    "person.display_name()"
   ]
  },
  {
   "cell_type": "code",
   "execution_count": 4,
   "metadata": {},
   "outputs": [],
   "source": [
    "person.name = 'rudra'"
   ]
  },
  {
   "cell_type": "code",
   "execution_count": 5,
   "metadata": {},
   "outputs": [
    {
     "output_type": "stream",
     "name": "stdout",
     "text": [
      "rudra\n"
     ]
    }
   ],
   "source": [
    "person.display_name()"
   ]
  },
  {
   "cell_type": "code",
   "execution_count": 6,
   "metadata": {},
   "outputs": [],
   "source": [
    "class Student:\n",
    "    def __init__(self,name,roll_no, branch, marks):\n",
    "        self.name = name \n",
    "        self.roll_no = roll_no \n",
    "        self.branch = branch \n",
    "        self.marks = marks\n",
    "    \n",
    "    def display_mark(self):\n",
    "        print(self.marks)\n",
    "    \n",
    "    def display_roll(self):\n",
    "        print(self.roll_no)\n",
    "    \n",
    "\n",
    "\n",
    "s1 = Student('sid',12,'cse',78)\n",
    "    \n"
   ]
  },
  {
   "cell_type": "code",
   "execution_count": 8,
   "metadata": {},
   "outputs": [
    {
     "output_type": "execute_result",
     "data": {
      "text/plain": [
       "'cse'"
      ]
     },
     "metadata": {},
     "execution_count": 8
    }
   ],
   "source": [
    "s1.branch"
   ]
  },
  {
   "cell_type": "code",
   "execution_count": 9,
   "metadata": {},
   "outputs": [
    {
     "output_type": "stream",
     "name": "stdout",
     "text": [
      "78\n"
     ]
    }
   ],
   "source": [
    "s1.display_mark()"
   ]
  },
  {
   "cell_type": "code",
   "execution_count": 10,
   "metadata": {},
   "outputs": [
    {
     "output_type": "stream",
     "name": "stdout",
     "text": [
      "12\n"
     ]
    }
   ],
   "source": [
    "s1.display_roll()"
   ]
  },
  {
   "cell_type": "code",
   "execution_count": 12,
   "metadata": {},
   "outputs": [],
   "source": [
    "class Student:\n",
    "    def __init__(self,name,roll_no, branch):\n",
    "        self.name = name \n",
    "        self.roll_no = roll_no \n",
    "        self.branch = branch \n",
    "        #self.marks = marks\n",
    "    \n",
    "    def display_mark(self):\n",
    "        print(self.marks)\n",
    "    \n",
    "    def display_roll(self):\n",
    "        print(self.roll_no)\n",
    "    \n",
    "    # setting the marks explicitly \n",
    "    def set_marks(self, marks):\n",
    "        self.marks = marks \n",
    "    \n",
    "\n",
    "\n",
    "s1 = Student('sid',12,'cse')\n",
    "    \n"
   ]
  },
  {
   "cell_type": "code",
   "execution_count": 13,
   "metadata": {},
   "outputs": [],
   "source": [
    "s1.set_marks(123)"
   ]
  },
  {
   "cell_type": "code",
   "execution_count": 14,
   "metadata": {},
   "outputs": [
    {
     "output_type": "execute_result",
     "data": {
      "text/plain": [
       "123"
      ]
     },
     "metadata": {},
     "execution_count": 14
    }
   ],
   "source": [
    "s1.marks"
   ]
  },
  {
   "cell_type": "code",
   "execution_count": 15,
   "metadata": {},
   "outputs": [],
   "source": [
    "class Student:\n",
    "    def __init__(self,name,roll_no, branch):\n",
    "        self.name = name \n",
    "        self.roll_no = roll_no \n",
    "        self.branch = branch \n",
    "        #self.marks = marks\n",
    "    \n",
    "    def display_mark(self):\n",
    "        print(self.marks)\n",
    "    \n",
    "    def display_roll(self):\n",
    "        print(self.roll_no)\n",
    "    \n",
    "    # setting the marks explicitly \n",
    "    def set_marks(self, marks):\n",
    "        self.marks = marks \n",
    "    \n",
    "\n",
    "\n",
    "s1 = Student('sid',12,'cse')\n",
    "    \n",
    "s1.set_marks([1,2,3,4])"
   ]
  },
  {
   "cell_type": "code",
   "execution_count": 16,
   "metadata": {},
   "outputs": [
    {
     "output_type": "execute_result",
     "data": {
      "text/plain": [
       "[1, 2, 3, 4]"
      ]
     },
     "metadata": {},
     "execution_count": 16
    }
   ],
   "source": [
    "s1.marks"
   ]
  },
  {
   "cell_type": "code",
   "execution_count": 22,
   "metadata": {},
   "outputs": [],
   "source": [
    "class Rectangle:\n",
    "    def __init__(self,length,width):\n",
    "        self.length = length \n",
    "        self.width = width \n",
    "    \n",
    "    def find_area(self):\n",
    "        return self.length * self.width \n",
    "\n",
    "\n",
    "\n",
    "\n",
    "class UserInput:\n",
    "    #def __init__(self):\n",
    "        #self.string = string \n",
    "    \n",
    "    def get_string(self):\n",
    "        self.string = input()\n",
    "    \n",
    "    def print_string(self):\n",
    "        return self.string.lower()\n",
    "\n",
    "my = UserInput()\n",
    "my.get_string()\n",
    "\n",
    "    \n",
    "\n"
   ]
  },
  {
   "cell_type": "code",
   "execution_count": 20,
   "metadata": {},
   "outputs": [
    {
     "output_type": "execute_result",
     "data": {
      "text/plain": [
       "'heloowooooo'"
      ]
     },
     "metadata": {},
     "execution_count": 20
    }
   ],
   "source": [
    "my.print_string()"
   ]
  },
  {
   "cell_type": "code",
   "execution_count": 68,
   "metadata": {},
   "outputs": [],
   "source": [
    "import numpy as np \n",
    "class RectanglePer:\n",
    "    side1 = 3 \n",
    "    side2 = 4 \n",
    "    side3 = 5 \n",
    "    s = side1 + side2 + side3/2\n",
    "    area = np.sqrt(s *(s - side1)* (s - side2) * (s - side3))\n",
    "\n",
    "    def get_per(self):\n",
    "        return RectanglePer.side2 + RectanglePer.side3 + RectanglePer.side1\n",
    "    def get_area(self):\n",
    "        return RectanglePer.area\n"
   ]
  },
  {
   "cell_type": "code",
   "execution_count": 69,
   "metadata": {},
   "outputs": [
    {
     "output_type": "execute_result",
     "data": {
      "text/plain": [
       "12"
      ]
     },
     "metadata": {},
     "execution_count": 69
    }
   ],
   "source": [
    "rec = RectanglePer()\n",
    "rec.get_per()"
   ]
  },
  {
   "cell_type": "code",
   "execution_count": 70,
   "metadata": {},
   "outputs": [
    {
     "output_type": "execute_result",
     "data": {
      "text/plain": [
       "39.093637589766445"
      ]
     },
     "metadata": {},
     "execution_count": 70
    }
   ],
   "source": [
    "rec.get_area()"
   ]
  },
  {
   "cell_type": "code",
   "execution_count": null,
   "metadata": {},
   "outputs": [],
   "source": []
  }
 ]
}