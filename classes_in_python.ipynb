{
 "metadata": {
  "language_info": {
   "codemirror_mode": {
    "name": "ipython",
    "version": 3
   },
   "file_extension": ".py",
   "mimetype": "text/x-python",
   "name": "python",
   "nbconvert_exporter": "python",
   "pygments_lexer": "ipython3",
   "version": "3.8.5-final"
  },
  "orig_nbformat": 2,
  "kernelspec": {
   "name": "python3",
   "display_name": "Python 3.8.5 64-bit (conda)",
   "metadata": {
    "interpreter": {
     "hash": "31d71ad9aa39c0baf4bc22e91d63925c5e983cab7cde6637fe5e3e78156f7446"
    }
   }
  }
 },
 "nbformat": 4,
 "nbformat_minor": 2,
 "cells": [
  {
   "cell_type": "code",
   "execution_count": 3,
   "metadata": {},
   "outputs": [
    {
     "output_type": "execute_result",
     "data": {
      "text/plain": [
       "'mittu'"
      ]
     },
     "metadata": {},
     "execution_count": 3
    }
   ],
   "source": [
    "class Bird:\n",
    "    def __init__(self,name = None,age = None,color = None):\n",
    "        self.name = name \n",
    "        self.age = age \n",
    "        self.color = color \n",
    "\n",
    "mittu = Bird('mittu',1,'blue')\n"
   ]
  },
  {
   "cell_type": "code",
   "execution_count": 11,
   "metadata": {},
   "outputs": [],
   "source": [
    "class Circle:\n",
    "    def __init__(self,radius = None):\n",
    "        self.radius = radius \n",
    "    \n",
    "    def find_area(self): \n",
    "        radius = 3.14 * self.radius * self.radius \n",
    "        return radius \n",
    "    \n",
    "    def display_radius(self):\n",
    "        print(self.radius)"
   ]
  },
  {
   "cell_type": "code",
   "execution_count": 12,
   "metadata": {},
   "outputs": [],
   "source": [
    "cir = Circle(radius = 12)"
   ]
  },
  {
   "cell_type": "code",
   "execution_count": 13,
   "metadata": {},
   "outputs": [
    {
     "output_type": "execute_result",
     "data": {
      "text/plain": [
       "452.15999999999997"
      ]
     },
     "metadata": {},
     "execution_count": 13
    }
   ],
   "source": [
    "cir.find_area()"
   ]
  },
  {
   "cell_type": "code",
   "execution_count": 14,
   "metadata": {},
   "outputs": [],
   "source": [
    "class Temperature:\n",
    "    def __init__(self, cel = None, far = None):\n",
    "        self.cel = cel \n",
    "        self.far = far \n",
    "\n",
    "    \n",
    "    def celcius_to_faranhite(self):\n",
    "        return (self.far  - 32) / 1.8 \n",
    "\n",
    "    def faranhite_to_celcius(self):\n",
    "        return self.cel * 1.8 + 32 \n",
    "    "
   ]
  },
  {
   "cell_type": "code",
   "execution_count": 15,
   "metadata": {},
   "outputs": [],
   "source": [
    "temp = Temperature(12,13)"
   ]
  },
  {
   "cell_type": "code",
   "execution_count": 16,
   "metadata": {},
   "outputs": [
    {
     "output_type": "execute_result",
     "data": {
      "text/plain": [
       "-10.555555555555555"
      ]
     },
     "metadata": {},
     "execution_count": 16
    }
   ],
   "source": [
    "temp.celcius_to_faranhite()"
   ]
  },
  {
   "cell_type": "code",
   "execution_count": 17,
   "metadata": {},
   "outputs": [
    {
     "output_type": "execute_result",
     "data": {
      "text/plain": [
       "53.6"
      ]
     },
     "metadata": {},
     "execution_count": 17
    }
   ],
   "source": [
    "temp.faranhite_to_celcius()"
   ]
  },
  {
   "cell_type": "code",
   "execution_count": null,
   "metadata": {},
   "outputs": [],
   "source": []
  }
 ]
}